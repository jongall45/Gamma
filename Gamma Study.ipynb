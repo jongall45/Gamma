{
 "cells": [
  {
   "cell_type": "code",
   "execution_count": 25,
   "metadata": {},
   "outputs": [],
   "source": [
    "import pandas as pd\n",
    "import numpy as np\n",
    "import yfinance as yf\n",
    "import matplotlib.pyplot as plt\n",
    "import pandas_datareader as web"
   ]
  },
  {
   "cell_type": "code",
   "execution_count": 26,
   "metadata": {},
   "outputs": [],
   "source": [
    "df = pd.read_csv(r'C:\\Users\\jonga\\OneDrive\\Desktop\\Gamma.csv', index_col = 0)"
   ]
  },
  {
   "cell_type": "code",
   "execution_count": 27,
   "metadata": {},
   "outputs": [
    {
     "data": {
      "text/html": [
       "<div>\n",
       "<style scoped>\n",
       "    .dataframe tbody tr th:only-of-type {\n",
       "        vertical-align: middle;\n",
       "    }\n",
       "\n",
       "    .dataframe tbody tr th {\n",
       "        vertical-align: top;\n",
       "    }\n",
       "\n",
       "    .dataframe thead th {\n",
       "        text-align: right;\n",
       "    }\n",
       "</style>\n",
       "<table border=\"1\" class=\"dataframe\">\n",
       "  <thead>\n",
       "    <tr style=\"text-align: right;\">\n",
       "      <th></th>\n",
       "      <th>SPX</th>\n",
       "      <th>DIX</th>\n",
       "      <th>GEX</th>\n",
       "      <th>VIX</th>\n",
       "      <th>Gamma</th>\n",
       "      <th>Delta</th>\n",
       "      <th>Cross</th>\n",
       "    </tr>\n",
       "    <tr>\n",
       "      <th>Date</th>\n",
       "      <th></th>\n",
       "      <th></th>\n",
       "      <th></th>\n",
       "      <th></th>\n",
       "      <th></th>\n",
       "      <th></th>\n",
       "      <th></th>\n",
       "    </tr>\n",
       "  </thead>\n",
       "  <tbody>\n",
       "    <tr>\n",
       "      <th>1/2/2018</th>\n",
       "      <td>2694.0</td>\n",
       "      <td>35.865943</td>\n",
       "      <td>5104.672300</td>\n",
       "      <td>9.77</td>\n",
       "      <td>2418.16700</td>\n",
       "      <td>14130.99233</td>\n",
       "      <td>0.0</td>\n",
       "    </tr>\n",
       "    <tr>\n",
       "      <th>1/3/2018</th>\n",
       "      <td>2713.0</td>\n",
       "      <td>36.173135</td>\n",
       "      <td>6227.584426</td>\n",
       "      <td>9.15</td>\n",
       "      <td>3327.51793</td>\n",
       "      <td>14957.67191</td>\n",
       "      <td>0.0</td>\n",
       "    </tr>\n",
       "    <tr>\n",
       "      <th>1/4/2018</th>\n",
       "      <td>2725.0</td>\n",
       "      <td>37.965179</td>\n",
       "      <td>6817.650988</td>\n",
       "      <td>9.22</td>\n",
       "      <td>3698.66400</td>\n",
       "      <td>15937.18248</td>\n",
       "      <td>0.0</td>\n",
       "    </tr>\n",
       "    <tr>\n",
       "      <th>1/5/2018</th>\n",
       "      <td>2739.0</td>\n",
       "      <td>37.649259</td>\n",
       "      <td>6572.707311</td>\n",
       "      <td>9.22</td>\n",
       "      <td>3377.86288</td>\n",
       "      <td>16591.83141</td>\n",
       "      <td>0.0</td>\n",
       "    </tr>\n",
       "    <tr>\n",
       "      <th>1/8/2018</th>\n",
       "      <td>2748.0</td>\n",
       "      <td>38.206735</td>\n",
       "      <td>6870.883579</td>\n",
       "      <td>9.52</td>\n",
       "      <td>3432.58442</td>\n",
       "      <td>17172.74024</td>\n",
       "      <td>0.0</td>\n",
       "    </tr>\n",
       "  </tbody>\n",
       "</table>\n",
       "</div>"
      ],
      "text/plain": [
       "             SPX        DIX          GEX   VIX       Gamma        Delta  Cross\n",
       "Date                                                                          \n",
       "1/2/2018  2694.0  35.865943  5104.672300  9.77  2418.16700  14130.99233    0.0\n",
       "1/3/2018  2713.0  36.173135  6227.584426  9.15  3327.51793  14957.67191    0.0\n",
       "1/4/2018  2725.0  37.965179  6817.650988  9.22  3698.66400  15937.18248    0.0\n",
       "1/5/2018  2739.0  37.649259  6572.707311  9.22  3377.86288  16591.83141    0.0\n",
       "1/8/2018  2748.0  38.206735  6870.883579  9.52  3432.58442  17172.74024    0.0"
      ]
     },
     "execution_count": 27,
     "metadata": {},
     "output_type": "execute_result"
    }
   ],
   "source": [
    "df.head()"
   ]
  },
  {
   "cell_type": "code",
   "execution_count": 28,
   "metadata": {},
   "outputs": [],
   "source": [
    "df['SPX%'] = df['SPX'].pct_change()\n",
    "df['VIX%'] = df['VIX'].pct_change()"
   ]
  },
  {
   "cell_type": "code",
   "execution_count": 29,
   "metadata": {},
   "outputs": [],
   "source": [
    "df['position'] = np.where(df['Gamma'] > 0, 1,0)"
   ]
  },
  {
   "cell_type": "code",
   "execution_count": 30,
   "metadata": {},
   "outputs": [],
   "source": [
    "df['Strategy Pct'] = df['SPX%'] * df['position']"
   ]
  },
  {
   "cell_type": "code",
   "execution_count": 31,
   "metadata": {},
   "outputs": [],
   "source": [
    "df['Long Gamma'] = (df['Strategy Pct'] + 1).cumprod()"
   ]
  },
  {
   "cell_type": "code",
   "execution_count": 32,
   "metadata": {},
   "outputs": [],
   "source": [
    "df['position2'] = np.where(df['Cross'] == 1,1, 0)"
   ]
  },
  {
   "cell_type": "code",
   "execution_count": 33,
   "metadata": {},
   "outputs": [],
   "source": [
    "df['Strategy Pct2'] = df['VIX%'] * df['position2']"
   ]
  },
  {
   "cell_type": "code",
   "execution_count": 34,
   "metadata": {},
   "outputs": [],
   "source": [
    "df['Long VIX'] = (df['Strategy Pct2'] +1).cumprod()"
   ]
  },
  {
   "cell_type": "code",
   "execution_count": null,
   "metadata": {},
   "outputs": [],
   "source": []
  },
  {
   "cell_type": "code",
   "execution_count": null,
   "metadata": {},
   "outputs": [],
   "source": []
  },
  {
   "cell_type": "code",
   "execution_count": 35,
   "metadata": {},
   "outputs": [],
   "source": [
    "df['Buy & Hold'] = (df['SPX'].pct_change(1) + 1 ).cumprod()"
   ]
  },
  {
   "cell_type": "code",
   "execution_count": 44,
   "metadata": {},
   "outputs": [
    {
     "data": {
      "text/plain": [
       "<matplotlib.axes._subplots.AxesSubplot at 0x1942de23470>"
      ]
     },
     "execution_count": 44,
     "metadata": {},
     "output_type": "execute_result"
    },
    {
     "data": {
      "image/png": "[encoded data removed]",
      "text/plain": [
       "<Figure size 720x720 with 1 Axes>"
      ]
     },
     "metadata": {
      "needs_background": "light"
     },
     "output_type": "display_data"
    }
   ],
   "source": [
    "df[['Long Gamma', 'Buy & Hold','Zero Gamma Cross']].plot(figsize = (10,10))"
   ]
  },
  {
   "cell_type": "code",
   "execution_count": 37,
   "metadata": {},
   "outputs": [],
   "source": [
    "df['Crossing'] = np.where(df['Cross'] == 0, 1,0)"
   ]
  },
  {
   "cell_type": "code",
   "execution_count": 38,
   "metadata": {},
   "outputs": [],
   "source": [
    "df['Cross Pct'] = df['SPX%'] * df['Crossing']"
   ]
  },
  {
   "cell_type": "code",
   "execution_count": 39,
   "metadata": {},
   "outputs": [],
   "source": [
    "df['Zero Gamma Cross'] = (df['Cross Pct'] + 1).cumprod()"
   ]
  },
  {
   "cell_type": "code",
   "execution_count": 40,
   "metadata": {},
   "outputs": [],
   "source": [
    "### Portfolio"
   ]
  },
  {
   "cell_type": "code",
   "execution_count": 41,
   "metadata": {},
   "outputs": [],
   "source": [
    "port = ['TLT', 'GLD', '^VIX']\n",
    "\n",
    "vol = web.DataReader(port, data_source = 'yahoo', start = '2018-01-02', end = '2020-03-20')['Adj Close']"
   ]
  },
  {
   "cell_type": "code",
   "execution_count": 42,
   "metadata": {},
   "outputs": [],
   "source": [
    "#convert daily price in daily returns\n",
    "\n",
    "returns = vol.pct_change()\n",
    "\n",
    "#mean daily returns\n",
    "\n",
    "mean_daily_returns = returns.mean()\n",
    "cov_matrics = returns.cov()\n",
    "\n",
    "#weights \n",
    "\n",
    "weights = np.asarray([.5,.25,.15,])"
   ]
  },
  {
   "cell_type": "code",
   "execution_count": 43,
   "metadata": {},
   "outputs": [
    {
     "data": {
      "text/plain": [
       "0.37"
      ]
     },
     "execution_count": 43,
     "metadata": {},
     "output_type": "execute_result"
    }
   ],
   "source": [
    "#calculate annualized return\n",
    "portfolio_returns = round(np.sum(mean_daily_returns * weights) *252,2)\n",
    "\n",
    "portfolio_returns"
   ]
  },
  {
   "cell_type": "code",
   "execution_count": null,
   "metadata": {},
   "outputs": [],
   "source": []
  }
 ],
 "metadata": {
  "kernelspec": {
   "display_name": "Python 3",
   "language": "python",
   "name": "python3"
  }
 },
 "nbformat": 4,
 "nbformat_minor": 4
}
